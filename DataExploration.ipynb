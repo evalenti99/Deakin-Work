{
 "cells": [
  {
   "cell_type": "code",
   "execution_count": 1,
   "id": "7fe28e84-0f39-4e01-b8a2-7d19b12ce034",
   "metadata": {},
   "outputs": [],
   "source": [
    "import os\n",
    "import os.path as osp\n",
    "from multiprocessing import Pool\n",
    "import sys\n",
    "current_dir = os.getcwd()\n",
    "if not current_dir in sys.path:\n",
    "    sys.path.append(current_dir)\n",
    "from typing import List, Tuple\n",
    "from functools import partial\n",
    "from tqdm import tqdm\n",
    "import configparser\n",
    "import shutil\n",
    "from os.path import exists\n",
    "from collections import Counter\n",
    "# import matplotlib.pyplot as plt"
   ]
  },
  {
   "cell_type": "code",
   "execution_count": 2,
   "id": "40851fb6-fb77-4e37-b20c-94689f388543",
   "metadata": {},
   "outputs": [
    {
     "data": {
      "text/plain": [
       "'/home/eugeni/workspace/DataExploration'"
      ]
     },
     "execution_count": 2,
     "metadata": {},
     "output_type": "execute_result"
    }
   ],
   "source": [
    "current_dir"
   ]
  },
  {
   "cell_type": "code",
   "execution_count": 3,
   "id": "aee51c67-da1a-40ae-a594-2bed644f1e33",
   "metadata": {},
   "outputs": [],
   "source": [
    "# Initialize some path paramenters\n",
    "config = configparser.ConfigParser()\n",
    "config.read('config.ini')\n",
    "current_dir = os.getcwd()\n",
    "data_dir = config['PATH']['DATA_DIR'] # This where the data of users is.\n",
    "filtered_data_path = config['PATH']['FILTERED_DATA_PATH']"
   ]
  },
  {
   "cell_type": "code",
   "execution_count": 4,
   "id": "36089233-a010-478f-a875-b5caec457578",
   "metadata": {},
   "outputs": [
    {
     "data": {
      "text/plain": [
       "'/mnt/DEAKIN/DeakinTest/DeakinTestEugeni/Deakin_Consumptions'"
      ]
     },
     "execution_count": 4,
     "metadata": {},
     "output_type": "execute_result"
    }
   ],
   "source": [
    "filtered_data_path"
   ]
  },
  {
   "cell_type": "code",
   "execution_count": 32,
   "id": "d9ec0c70-ea1a-43ac-8fc4-bb1b245d31cd",
   "metadata": {},
   "outputs": [
    {
     "data": {
      "text/plain": [
       "['/mnt/DEAKIN/DeakinImages/83-101/filtered_images 83-101',\n",
       " '/mnt/DEAKIN/DeakinImages/83-102/filtered_images',\n",
       " '/mnt/DEAKIN/DeakinImages/83-103/filtered_images',\n",
       " '/mnt/DEAKIN/DeakinImages/83-104/filtered_images',\n",
       " '/mnt/DEAKIN/DeakinImages/83-105/filtered_images']"
      ]
     },
     "execution_count": 32,
     "metadata": {},
     "output_type": "execute_result"
    }
   ],
   "source": [
    "subject_folder_paths = [os.path.join(data_dir, subject_id) for subject_id in os.listdir(data_dir)]\n",
    "filtered_image_folder_paths = [os.path.join(data_dir, subject_id, f'filtered_images') for subject_id in os.listdir(data_dir)]\n",
    "filtered_image_folder_paths[0] = '/mnt/DEAKIN/DeakinImages/83-101/filtered_images 83-101'\n",
    "filtered_image_folder_paths[0:5]"
   ]
  },
  {
   "cell_type": "markdown",
   "id": "9dc57664-ee6a-4686-b95e-130f6e371736",
   "metadata": {},
   "source": [
    "# filtered_images (child folder from subject ID)"
   ]
  },
  {
   "cell_type": "code",
   "execution_count": 6,
   "id": "2a35c6d9-6a25-4b37-af82-b95a11a8d2a6",
   "metadata": {},
   "outputs": [],
   "source": [
    "wanted_categories = ['MED', 'DietaryIntake', 'DIetaryIntake',\n",
    "                    'MealPrep', 'MP']\n",
    "image_extensions = ['.jpg', '.png']\n",
    "not_a_jpg = 0\n",
    "filtered_images_child = []\n",
    "for filtered_folder in filtered_image_folder_paths:\n",
    "    for label in os.listdir(filtered_folder):\n",
    "        if label == '.DS_Store': \n",
    "            continue\n",
    "        if label in wanted_categories:\n",
    "            file = osp.join(filtered_folder, label)\n",
    "            for image_path in os.listdir(file):\n",
    "                file_extension = osp.splitext(image_path)[-1]\n",
    "                if file_extension.lower() in image_extensions:\n",
    "                    filtered_images_child.append(osp.join(file, image_path))"
   ]
  },
  {
   "cell_type": "markdown",
   "id": "2e294850-e573-4efe-a74e-fb67c124a120",
   "metadata": {},
   "source": [
    "# Filtered images from 'nth Visit' folders"
   ]
  },
  {
   "cell_type": "code",
   "execution_count": 7,
   "id": "3e21d6d1-53ff-4c3b-911d-5f7b4081911e",
   "metadata": {},
   "outputs": [
    {
     "data": {
      "text/plain": [
       "['5th Visit (Cam 1)',\n",
       " '6th Visit (Cam 12)',\n",
       " 'filtered_images 83-101',\n",
       " '.DS_Store',\n",
       " '3rd Visit (Cam 1)',\n",
       " '1st Visit (Cam1)',\n",
       " '7th Visit (Cam 1)',\n",
       " '4th Visit (Cam 4)',\n",
       " '8th Visit (Cam 7)']"
      ]
     },
     "execution_count": 7,
     "metadata": {},
     "output_type": "execute_result"
    }
   ],
   "source": [
    "visit_folders = os.listdir(subject_folder_paths[0])\n",
    "visit_folders"
   ]
  },
  {
   "cell_type": "code",
   "execution_count": 8,
   "id": "2b7e3a9b-3acc-456c-8629-0f67028275c2",
   "metadata": {},
   "outputs": [
    {
     "data": {
      "text/plain": [
       "['5th Visit (Cam 1)',\n",
       " '6th Visit (Cam 12)',\n",
       " '3rd Visit (Cam 1)',\n",
       " '1st Visit (Cam1)',\n",
       " '7th Visit (Cam 1)',\n",
       " '4th Visit (Cam 4)',\n",
       " '8th Visit (Cam 7)']"
      ]
     },
     "execution_count": 8,
     "metadata": {},
     "output_type": "execute_result"
    }
   ],
   "source": [
    "wanted_folders = 'Visit'\n",
    "matching = [s for s in visit_folders if wanted_folders in s]\n",
    "matching"
   ]
  },
  {
   "cell_type": "code",
   "execution_count": 9,
   "id": "d96701d5-abe2-4fc9-8ab9-08fac15f972c",
   "metadata": {},
   "outputs": [
    {
     "name": "stdout",
     "output_type": "stream",
     "text": [
      "/mnt/DEAKIN/DeakinImages/83-101/5th Visit (Cam 1)\n",
      "/mnt/DEAKIN/DeakinImages/83-101/6th Visit (Cam 12)\n",
      "/mnt/DEAKIN/DeakinImages/83-101/3rd Visit (Cam 1)\n",
      "/mnt/DEAKIN/DeakinImages/83-101/1st Visit (Cam1)\n",
      "/mnt/DEAKIN/DeakinImages/83-101/7th Visit (Cam 1)\n",
      "/mnt/DEAKIN/DeakinImages/83-101/4th Visit (Cam 4)\n",
      "/mnt/DEAKIN/DeakinImages/83-101/8th Visit (Cam 7)\n"
     ]
    }
   ],
   "source": [
    "for matches in matching:\n",
    "    print(osp.join(subject_folder_paths[0], matches))"
   ]
  },
  {
   "cell_type": "code",
   "execution_count": 10,
   "id": "46ed3d63-a98d-4ff1-83b7-cf38da30fbb5",
   "metadata": {},
   "outputs": [
    {
     "name": "stderr",
     "output_type": "stream",
     "text": [
      "4046it [00:39, 102.38it/s]\n"
     ]
    },
    {
     "data": {
      "text/plain": [
       "['/mnt/DEAKIN/DeakinImages/83-101/5th Visit (Cam 1)/13-7-16/20160713_081311_000.jpg',\n",
       " '/mnt/DEAKIN/DeakinImages/83-101/5th Visit (Cam 1)/13-7-16/20160713_023659_000.jpg',\n",
       " '/mnt/DEAKIN/DeakinImages/83-101/5th Visit (Cam 1)/13-7-16/20160713_025116_000.jpg',\n",
       " '/mnt/DEAKIN/DeakinImages/83-101/5th Visit (Cam 1)/13-7-16/20160713_084457_000.jpg',\n",
       " '/mnt/DEAKIN/DeakinImages/83-101/5th Visit (Cam 1)/13-7-16/20160713_050726_000.jpg',\n",
       " '/mnt/DEAKIN/DeakinImages/83-101/5th Visit (Cam 1)/13-7-16/20160713_013122_000.jpg',\n",
       " '/mnt/DEAKIN/DeakinImages/83-101/5th Visit (Cam 1)/13-7-16/20160713_045135_000.jpg',\n",
       " '/mnt/DEAKIN/DeakinImages/83-101/5th Visit (Cam 1)/13-7-16/20160713_075416_000.jpg',\n",
       " '/mnt/DEAKIN/DeakinImages/83-101/5th Visit (Cam 1)/13-7-16/20160713_011026_000.jpg',\n",
       " '/mnt/DEAKIN/DeakinImages/83-101/5th Visit (Cam 1)/13-7-16/20160713_082833_000.jpg']"
      ]
     },
     "execution_count": 10,
     "metadata": {},
     "output_type": "execute_result"
    }
   ],
   "source": [
    "image_paths = []\n",
    "for root, dirs, files in tqdm(os.walk(data_dir)):\n",
    "    for file in files:\n",
    "        file_extension = osp.splitext(file)[-1]\n",
    "        if file_extension.lower() in image_extensions:\n",
    "            image_path = osp.join(root, file)\n",
    "            image_paths.append(image_path)\n",
    "image_paths[0:10]"
   ]
  },
  {
   "cell_type": "code",
   "execution_count": 12,
   "id": "30ad9d29-427e-46d2-b18c-d5a7ad3a3912",
   "metadata": {},
   "outputs": [],
   "source": [
    "s = 'filtered'\n",
    "interested_labels = ['COOK', 'MED', 'MT']\n",
    "filtered_images_visits = []\n",
    "for image_path in image_paths:\n",
    "    filtered_folder_check = image_path.split('/')[-3]\n",
    "    current_label = image_path.split('/')[-2]\n",
    "    if (s in filtered_folder_check) and (current_label in interested_labels):\n",
    "        filtered_images_visits.append(image_path)"
   ]
  },
  {
   "cell_type": "code",
   "execution_count": 13,
   "id": "c27e4fb9-fbce-40d6-9122-6d366537e850",
   "metadata": {},
   "outputs": [
    {
     "data": {
      "text/plain": [
       "21850"
      ]
     },
     "execution_count": 13,
     "metadata": {},
     "output_type": "execute_result"
    }
   ],
   "source": [
    "len(filtered_images_visits)"
   ]
  },
  {
   "cell_type": "markdown",
   "id": "2eea5b88-8144-4885-9025-317ea1b31032",
   "metadata": {},
   "source": [
    "# Overall results"
   ]
  },
  {
   "cell_type": "code",
   "execution_count": 14,
   "id": "50e2defc-28c7-4f53-b12a-a4eee95ba20d",
   "metadata": {},
   "outputs": [
    {
     "name": "stdout",
     "output_type": "stream",
     "text": [
      "Some examples of filtered images paths FOLDER CHILD OF SUBJECT ID:\n"
     ]
    },
    {
     "data": {
      "text/plain": [
       "['/mnt/DEAKIN/DeakinImages/83-101/filtered_images 83-101/MealPrep/20160705_045132_000.jpg',\n",
       " '/mnt/DEAKIN/DeakinImages/83-101/filtered_images 83-101/MealPrep/20160705_003658_000.jpg',\n",
       " '/mnt/DEAKIN/DeakinImages/83-101/filtered_images 83-101/MealPrep/20160724_010030_000.jpg',\n",
       " '/mnt/DEAKIN/DeakinImages/83-101/filtered_images 83-101/MealPrep/20160709_070654_000.jpg',\n",
       " '/mnt/DEAKIN/DeakinImages/83-101/filtered_images 83-101/MealPrep/20160713_234045_000.jpg']"
      ]
     },
     "execution_count": 14,
     "metadata": {},
     "output_type": "execute_result"
    }
   ],
   "source": [
    "print('Some examples of filtered images paths FOLDER CHILD OF SUBJECT ID:')\n",
    "filtered_images_child[0:5]"
   ]
  },
  {
   "cell_type": "code",
   "execution_count": 15,
   "id": "ca6adba5-bcd3-4249-8283-ef5aeb599339",
   "metadata": {},
   "outputs": [
    {
     "data": {
      "text/plain": [
       "Counter({'MealPrep': 2598,\n",
       "         'DietaryIntake': 2799,\n",
       "         'MED': 2997,\n",
       "         'DIetaryIntake': 100})"
      ]
     },
     "execution_count": 15,
     "metadata": {},
     "output_type": "execute_result"
    }
   ],
   "source": [
    "categories_filtered = []\n",
    "for category in filtered_images_child:\n",
    "    categories_filtered.append(category.split('/')[-2])\n",
    "Counter(categories_filtered)"
   ]
  },
  {
   "cell_type": "code",
   "execution_count": 16,
   "id": "c1e90a93-7941-440e-b120-13f56505d2ae",
   "metadata": {},
   "outputs": [
    {
     "name": "stdout",
     "output_type": "stream",
     "text": [
      "Some examples of filtered image paths INSIDE VISITS: \n"
     ]
    },
    {
     "data": {
      "text/plain": [
       "['/mnt/DEAKIN/DeakinImages/83-101/5th Visit (Cam 1)/filtered_images/MT/20160714_043041_000.jpg',\n",
       " '/mnt/DEAKIN/DeakinImages/83-101/5th Visit (Cam 1)/filtered_images/MT/20160714_002240_000.jpg',\n",
       " '/mnt/DEAKIN/DeakinImages/83-101/5th Visit (Cam 1)/filtered_images/MT/20160714_003307_000.jpg',\n",
       " '/mnt/DEAKIN/DeakinImages/83-101/5th Visit (Cam 1)/filtered_images/MT/20160714_003150_000.jpg',\n",
       " '/mnt/DEAKIN/DeakinImages/83-101/5th Visit (Cam 1)/filtered_images/MT/20160714_000514_000.jpg']"
      ]
     },
     "execution_count": 16,
     "metadata": {},
     "output_type": "execute_result"
    }
   ],
   "source": [
    "print('Some examples of filtered image paths INSIDE VISITS: ')\n",
    "filtered_images_visits[0:5]"
   ]
  },
  {
   "cell_type": "code",
   "execution_count": 17,
   "id": "bf1ac90a-8ca1-42d5-b3cb-6d6a03ab8cd9",
   "metadata": {},
   "outputs": [
    {
     "data": {
      "text/plain": [
       "Counter({'MT': 6281, 'COOK': 6342, 'MED': 9227})"
      ]
     },
     "execution_count": 17,
     "metadata": {},
     "output_type": "execute_result"
    }
   ],
   "source": [
    "categories = []\n",
    "for category in filtered_images_visits:\n",
    "    categories.append(category.split('/')[-2])\n",
    "Counter(categories)"
   ]
  },
  {
   "cell_type": "markdown",
   "id": "fcc96dc3-655e-4298-8670-6a75336c110c",
   "metadata": {},
   "source": [
    "# Creating the directories"
   ]
  },
  {
   "cell_type": "code",
   "execution_count": 19,
   "id": "482fd1e6-4b72-43be-991f-1954b4a9bef4",
   "metadata": {},
   "outputs": [],
   "source": [
    "def create_folder(folder_path):\n",
    "    if not osp.exists(folder_path):\n",
    "        os.makedirs(folder_path)"
   ]
  },
  {
   "cell_type": "code",
   "execution_count": 20,
   "id": "ad33f47b-3213-4f02-951d-03ce5c7c96e9",
   "metadata": {},
   "outputs": [],
   "source": [
    "filtered_med_path = osp.join(filtered_data_path, 'MED')\n",
    "filtered_food_path = osp.join(filtered_data_path, 'FOOD')\n",
    "filtered_beverages_path = osp.join(filtered_data_path, 'BEVERAGES')\n",
    "create_folder(filtered_med_path)\n",
    "create_folder(filtered_food_path)\n",
    "create_folder(filtered_beverages_path)"
   ]
  },
  {
   "cell_type": "code",
   "execution_count": 34,
   "id": "6da0237d-fbba-48c1-adb4-abd75bc39357",
   "metadata": {},
   "outputs": [
    {
     "data": {
      "text/plain": [
       "['83-101',\n",
       " '83-102',\n",
       " '83-103',\n",
       " '83-104',\n",
       " '83-105',\n",
       " '83-106',\n",
       " '83-107',\n",
       " '83-108',\n",
       " '83-109',\n",
       " '83-110',\n",
       " '83-111',\n",
       " '83-112',\n",
       " '83-113',\n",
       " '83-114',\n",
       " '83-115',\n",
       " '83-116',\n",
       " '83-117',\n",
       " '83-118',\n",
       " '83-119',\n",
       " '83-120',\n",
       " '83-121',\n",
       " '83-122',\n",
       " '83-123',\n",
       " '83-124',\n",
       " '83-125',\n",
       " '83-126',\n",
       " '83-127',\n",
       " '83-128',\n",
       " '83-129',\n",
       " '83-130']"
      ]
     },
     "execution_count": 34,
     "metadata": {},
     "output_type": "execute_result"
    }
   ],
   "source": [
    "subjects = []\n",
    "for subject in filtered_image_folder_paths:\n",
    "    subjects.append(subject.split('/')[-2])\n",
    "subjects"
   ]
  },
  {
   "cell_type": "code",
   "execution_count": 22,
   "id": "96fe22fb-496f-45be-b5bb-efc39934ed6b",
   "metadata": {},
   "outputs": [],
   "source": [
    "# Create 30 subject folders in each of the 3 labels\n",
    "for subject in subjects:\n",
    "    create_folder(osp.join(filtered_data_path, 'MED', subject))\n",
    "    create_folder(osp.join(filtered_data_path, 'FOOD', subject))\n",
    "    create_folder(osp.join(filtered_data_path, 'BEVERAGES', subject))"
   ]
  },
  {
   "cell_type": "markdown",
   "id": "e8874c28-dd56-4f82-aba4-a10a44a7bd23",
   "metadata": {},
   "source": [
    "# Copying files into new directories"
   ]
  },
  {
   "cell_type": "code",
   "execution_count": 23,
   "id": "7cde0a26-6fab-4d4f-9c34-a42da70de169",
   "metadata": {},
   "outputs": [],
   "source": [
    "def get_subject_from_path(path):\n",
    "#     s = '/mnt/DEAKIN/DeakinImages/83-101/5th Visit (Cam 1)/filtered_images/MT/20160714_043041_000.jpg'\n",
    "#     Would return 83-101\n",
    "    return path.split('/')[4]"
   ]
  },
  {
   "cell_type": "code",
   "execution_count": 25,
   "id": "70826711-1989-456a-afaf-5908e1133cd3",
   "metadata": {},
   "outputs": [],
   "source": [
    "def copy_a_file(source, destination, subject):\n",
    "    \n",
    "    file_name = source.split('/')[-1]\n",
    "    destination = os.path.join(destination, subject, file_name) \n",
    "    \n",
    "    if not exists(destination):\n",
    "        shutil.copyfile(source, destination)\n",
    "#         try:\n",
    "#             shutil.copyfile(source, destination)\n",
    "#             print(\"File copied successfully.\")\n",
    "\n",
    "#         # If source and destination are same\n",
    "#         except shutil.SameFileError:\n",
    "#             print(\"Source and destination represents the same file.\")\n",
    "\n",
    "#         # If there is any permission issue\n",
    "#         except PermissionError as p:\n",
    "#             print(p)\n",
    "#             print(\"Permission denied.\")\n",
    "\n",
    "#         # For other errors\n",
    "#         except Exception as e:\n",
    "#             print(e)\n",
    "#             print(\"Error occurred while copying file.\")\n",
    "#     else:\n",
    "#         print('The file already exists in the destination.')"
   ]
  },
  {
   "cell_type": "code",
   "execution_count": 27,
   "id": "ac1b80ef-4a94-4ca2-9589-599035b43bc8",
   "metadata": {},
   "outputs": [
    {
     "name": "stderr",
     "output_type": "stream",
     "text": [
      "100%|████████████████████████████████████████████████████████| 8494/8494 [00:00<00:00, 163280.88it/s]\n"
     ]
    }
   ],
   "source": [
    "for image in tqdm(filtered_images_child):\n",
    "    label = image.split('/')[-2]\n",
    "    if label in ['MED']:\n",
    "        destination = filtered_med_path\n",
    "    elif label in ['COOK', 'MT', 'MealPrep', 'MT']:\n",
    "        destination = filtered_food_path\n",
    "    elif label in ['DietaryIntake', 'DIetaryIntake']:\n",
    "        destination = filtered_beverages_path\n",
    "    copy_a_file(image, destination, get_subject_from_path(image))"
   ]
  },
  {
   "cell_type": "code",
   "execution_count": 28,
   "id": "cd3a3d86-dc53-4f8a-95e6-a8da37582e33",
   "metadata": {},
   "outputs": [
    {
     "name": "stderr",
     "output_type": "stream",
     "text": [
      "100%|█████████████████████████████████████████████████████████| 21850/21850 [02:38<00:00, 138.04it/s]\n"
     ]
    }
   ],
   "source": [
    "for image in tqdm(filtered_images_visits):\n",
    "    label = image.split('/')[-2]\n",
    "    if label in ['MED']:\n",
    "        destination = filtered_med_path\n",
    "    elif label in ['COOK', 'MT', 'MealPrep']:\n",
    "        destination = filtered_food_path\n",
    "    elif label in ['DietaryIntake', 'DIetaryIntake']:\n",
    "        destination = filtered_beverages_path\n",
    "    copy_a_file(image, destination, get_subject_from_path(image))"
   ]
  }
 ],
 "metadata": {
  "kernelspec": {
   "display_name": "Python 3 (ipykernel)",
   "language": "python",
   "name": "python3"
  },
  "language_info": {
   "codemirror_mode": {
    "name": "ipython",
    "version": 3
   },
   "file_extension": ".py",
   "mimetype": "text/x-python",
   "name": "python",
   "nbconvert_exporter": "python",
   "pygments_lexer": "ipython3",
   "version": "3.9.7"
  }
 },
 "nbformat": 4,
 "nbformat_minor": 5
}
