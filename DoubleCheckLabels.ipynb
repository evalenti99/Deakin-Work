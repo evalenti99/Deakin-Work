{
 "cells": [
  {
   "cell_type": "code",
   "execution_count": 111,
   "id": "c7dcbb28-2ecd-4a3c-b13c-33cc5ad534b1",
   "metadata": {},
   "outputs": [],
   "source": [
    "import pandas as pd\n",
    "import os\n",
    "from os import walk\n",
    "from collections import defaultdict\n",
    "from tqdm import tqdm\n",
    "from typing import List"
   ]
  },
  {
   "cell_type": "code",
   "execution_count": 112,
   "id": "a966a8ef-5a7c-4f1e-9d59-c26e07449253",
   "metadata": {},
   "outputs": [],
   "source": [
    "DEAKIN_DATA_PATH = '/mnt/DEAKIN/DeakinImages'"
   ]
  },
  {
   "cell_type": "code",
   "execution_count": 113,
   "id": "44493662-7983-4151-97cc-7e07319dfa81",
   "metadata": {},
   "outputs": [
    {
     "data": {
      "text/plain": [
       "['/mnt/DEAKIN/DeakinImages/83-101/filtered_images 83-101',\n",
       " '/mnt/DEAKIN/DeakinImages/83-102/filtered_images',\n",
       " '/mnt/DEAKIN/DeakinImages/83-103/filtered_images',\n",
       " '/mnt/DEAKIN/DeakinImages/83-104/filtered_images',\n",
       " '/mnt/DEAKIN/DeakinImages/83-105/filtered_images',\n",
       " '/mnt/DEAKIN/DeakinImages/83-106/filtered_images',\n",
       " '/mnt/DEAKIN/DeakinImages/83-107/filtered_images',\n",
       " '/mnt/DEAKIN/DeakinImages/83-108/filtered_images',\n",
       " '/mnt/DEAKIN/DeakinImages/83-109/filtered_images',\n",
       " '/mnt/DEAKIN/DeakinImages/83-110/filtered_images',\n",
       " '/mnt/DEAKIN/DeakinImages/83-111/filtered_images',\n",
       " '/mnt/DEAKIN/DeakinImages/83-112/filtered_images',\n",
       " '/mnt/DEAKIN/DeakinImages/83-113/filtered_images',\n",
       " '/mnt/DEAKIN/DeakinImages/83-114/filtered_images',\n",
       " '/mnt/DEAKIN/DeakinImages/83-115/filtered_images',\n",
       " '/mnt/DEAKIN/DeakinImages/83-116/filtered_images',\n",
       " '/mnt/DEAKIN/DeakinImages/83-117/filtered_images',\n",
       " '/mnt/DEAKIN/DeakinImages/83-118/filtered_images',\n",
       " '/mnt/DEAKIN/DeakinImages/83-119/filtered_images',\n",
       " '/mnt/DEAKIN/DeakinImages/83-120/filtered_images',\n",
       " '/mnt/DEAKIN/DeakinImages/83-121/filtered_images',\n",
       " '/mnt/DEAKIN/DeakinImages/83-122/filtered_images',\n",
       " '/mnt/DEAKIN/DeakinImages/83-123/filtered_images',\n",
       " '/mnt/DEAKIN/DeakinImages/83-124/filtered_images',\n",
       " '/mnt/DEAKIN/DeakinImages/83-125/filtered_images',\n",
       " '/mnt/DEAKIN/DeakinImages/83-126/filtered_images',\n",
       " '/mnt/DEAKIN/DeakinImages/83-127/filtered_images',\n",
       " '/mnt/DEAKIN/DeakinImages/83-128/filtered_images',\n",
       " '/mnt/DEAKIN/DeakinImages/83-129/filtered_images',\n",
       " '/mnt/DEAKIN/DeakinImages/83-130/filtered_images']"
      ]
     },
     "execution_count": 113,
     "metadata": {},
     "output_type": "execute_result"
    }
   ],
   "source": [
    "subject_folder_paths = [os.path.join(DEAKIN_DATA_PATH, subject_id) for subject_id in os.listdir(DEAKIN_DATA_PATH)]\n",
    "# filtered_image_folder_paths = [os.path.join(DEAKIN_DATA_PATH, subject_id, f'filtered_images {subject_id}') for subject_id in os.listdir(DEAKIN_DATA_PATH)]\n",
    "filtered_image_folder_paths = [os.path.join(DEAKIN_DATA_PATH, subject_id, f'filtered_images') for subject_id in os.listdir(DEAKIN_DATA_PATH)]\n",
    "filtered_image_folder_paths[0] = '/mnt/DEAKIN/DeakinImages/83-101/filtered_images 83-101'\n",
    "filtered_image_folder_paths"
   ]
  },
  {
   "cell_type": "code",
   "execution_count": 114,
   "id": "e80617f1-05dc-4ebb-9555-672f98abd0d4",
   "metadata": {},
   "outputs": [
    {
     "data": {
      "text/plain": [
       "'/mnt/DEAKIN/DeakinImages/83-102/filtered_images'"
      ]
     },
     "execution_count": 114,
     "metadata": {},
     "output_type": "execute_result"
    }
   ],
   "source": [
    "EXAMPLE_SUBJECT_FOLDER_PATH = filtered_image_folder_paths[1]\n",
    "EXAMPLE_SUBJECT_FOLDER_PATH"
   ]
  },
  {
   "cell_type": "code",
   "execution_count": 115,
   "id": "a9cc242f-4182-40af-913d-94445439ee8b",
   "metadata": {},
   "outputs": [
    {
     "name": "stdout",
     "output_type": "stream",
     "text": [
      "['20160713_235238_000.jpg', '20160713_055250_000.jpg', '20160713_230454_000.jpg', '20000101_191411_000.jpg', '20000104_133323_000.jpg', '20160713_225612_000.jpg', '20160706_043058_000.jpg', '20160713_234354_000.jpg', '20000101_191547_000.jpg', 'prob.csv', '20000104_124449_000.jpg', '20160726_090937_000.jpg', '20000101_191723_000.jpg', '20160713_235616_000.jpg', '20160706_024618_000.jpg', '20000105_094024_000.jpg', '20160713_231338_000.jpg', '20160724_061652_000.jpg', '20160714_000327_000.jpg', '20160713_225642_000.jpg', '20160713_230758_000.jpg', '20000101_190435_000.jpg', '20160713_234659_000.jpg', '20160713_235105_000.jpg', '20160714_002602_000.jpg', '20000104_133811_000.jpg', '20160713_230931_000.jpg', '20160714_001241_000.jpg', '20160724_055311_000.jpg', '20000101_172900_000.jpg', '20160713_225542_000.jpg', '20160713_225814_000.jpg', '20160724_043319_000.jpg', '20000101_191235_000.jpg', '20000101_190051_000.jpg', '20160704_071859_000.jpg', '20000101_191059_000.jpg', '20160713_235341_000.jpg', '20160713_235208_000.jpg', '20160714_000838_000.jpg', '20160713_230556_000.jpg', '20160704_080400_000.jpg', '20000101_181603_000.jpg', '20160713_230118_000.jpg', '20160713_234933_000.jpg', '20000101_190539_000.jpg', '20160714_002224_000.jpg', '20160706_030455_000.jpg', '20000104_140829_000.jpg', '20000101_172828_000.jpg', '20000101_190819_000.jpg', '20000101_190403_000.jpg', '20000102_122942_000.jpg', '20000101_174441_000.jpg', '20000104_130453_000.jpg', '20160713_232017_000.jpg', '20000104_133947_000.jpg', '20160714_000938_000.jpg', '20000104_124417_000.jpg', '20000104_130525_000.jpg', '20160714_000126_000.jpg', '20160713_232049_000.jpg', '20160713_230321_000.jpg', '20160714_001616_000.jpg', '20000101_172412_000.jpg', '20160726_214448_000.jpg', '20000101_181531_000.jpg', '20000101_190331_000.jpg', '20160714_000805_000.jpg', '20000101_191203_000.jpg', '20160714_001950_000.jpg', '20160713_234833_000.jpg', '20000101_192016_000.jpg', '20160713_234425_000.jpg', '20160713_232149_000.jpg', '20000101_191515_000.jpg', '20160713_231206_000.jpg', '20000102_000450_000.jpg', '20160723_231359_000.jpg', '20160713_235138_000.jpg', '20160617_122541_000.jpg', '20000101_191339_000.jpg', '20160713_230901_000.jpg', '20160617_195247_000.jpg', '20160724_054855_000.jpg', '20000101_190643_000.jpg', '20160713_231815_000.jpg', '20160713_234903_000.jpg', '20000101_191755_000.jpg', '20000101_220519_000.jpg', '20000101_190259_000.jpg', '20160617_163405_000.jpg', '20160713_231613_000.jpg', '20160713_235035_000.jpg', '20160713_232222_000.jpg', '20000104_133603_000.jpg', '20000104_131813_000.jpg', '20160713_232119_000.jpg', '20160724_030009_000.jpg', '20000101_190123_000.jpg', '20000101_190955_000.jpg']\n"
     ]
    }
   ],
   "source": [
    "#print(os.listdir(EXAMPLE_SUBJECT_FOLDER_PATH))\n",
    "EXAMPLE_CONTENT = os.listdir(os.path.join(EXAMPLE_SUBJECT_FOLDER_PATH, os.listdir(EXAMPLE_SUBJECT_FOLDER_PATH)[0]))\n",
    "print(EXAMPLE_CONTENT)"
   ]
  },
  {
   "cell_type": "code",
   "execution_count": 116,
   "id": "616d6ee2-e941-4e8a-bbce-a61c2df117db",
   "metadata": {},
   "outputs": [],
   "source": [
    "EXAMPLE_LABEL = [os.listdir(EXAMPLE_SUBJECT_FOLDER_PATH)[0]] * len(EXAMPLE_CONTENT)"
   ]
  },
  {
   "cell_type": "code",
   "execution_count": 117,
   "id": "519e5678-4635-40ff-9abb-ea0739cd1fc6",
   "metadata": {},
   "outputs": [
    {
     "data": {
      "text/plain": [
       "20160713_235238_000.jpg    ScreenA\n",
       "20160713_055250_000.jpg    ScreenA\n",
       "20160713_230454_000.jpg    ScreenA\n",
       "20000101_191411_000.jpg    ScreenA\n",
       "20000104_133323_000.jpg    ScreenA\n",
       "dtype: object"
      ]
     },
     "execution_count": 117,
     "metadata": {},
     "output_type": "execute_result"
    }
   ],
   "source": [
    "df = pd.Series(index=EXAMPLE_CONTENT, data=EXAMPLE_LABEL)\n",
    "df.head()"
   ]
  },
  {
   "cell_type": "code",
   "execution_count": 118,
   "id": "81a0d58e-4c68-4f81-b859-244e4e04fad2",
   "metadata": {},
   "outputs": [],
   "source": [
    "def convert_to_table_format(subject_annotations: defaultdict(list)) -> List[List[str]]:\n",
    "    max_num_labels = max([len(labels) for _, labels in annotations.items()])\n",
    "#     print(\"Maximum number of labels: \", max_num_labels)\n",
    "    # Convert to table-type format\n",
    "    rows = []\n",
    "    for image_id, labels in annotations.items():\n",
    "        single_row_data = [image_id, *labels]\n",
    "        if len(single_row_data) < max_num_labels + 1:\n",
    "            num_remaining_items = max_num_labels + 1 - len(single_row_data)\n",
    "            single_row_data += [None] * num_remaining_items\n",
    "        rows.append(single_row_data)\n",
    "    return rows"
   ]
  },
  {
   "cell_type": "code",
   "execution_count": 119,
   "id": "3d4502c7-7c78-4f01-928c-0d6e6808bb27",
   "metadata": {},
   "outputs": [
    {
     "name": "stderr",
     "output_type": "stream",
     "text": [
      "100%|████████████████████████████████████████████████████████████████| 30/30 [00:57<00:00,  1.92s/it]\n"
     ]
    }
   ],
   "source": [
    "for subject in tqdm(filtered_image_folder_paths):\n",
    "    subject_id = subject.split('/')[-2]\n",
    "    annotations = defaultdict(list)\n",
    "    for label in os.listdir(subject):\n",
    "        if label == '.DS_Store': \n",
    "            continue\n",
    "        subject_label_path = os.path.join(subject, label)\n",
    "        image_ids = sorted([image_id for image_id in os.listdir(subject_label_path) if os.path.splitext(image_id)[-1] != '.csv'])\n",
    "        labels_for_image_ids = [label] * len(image_ids)\n",
    "        for index, image_id in enumerate(image_ids):\n",
    "            corresponding_label = labels_for_image_ids[index] # Get the corresponding label for each image_id\n",
    "            annotations[image_id].append(corresponding_label) # Add it to the corresponding entry in the dictionary\n",
    "        # Convert annotation dictionary data structure into table format structure\n",
    "        max_num_labels = max([len(labels) for _, labels in annotations.items()])\n",
    "        rows = convert_to_table_format(annotations)\n",
    "        column_names = ['image_id', *[f'label_{index + 1}' for index in range(max_num_labels)]]\n",
    "        df = pd.DataFrame(rows, columns=column_names)\n",
    "        df.to_csv(f'prev_annotations/{subject_id}_prev_annotations.csv', index=False)\n",
    "# print(annotations)"
   ]
  },
  {
   "cell_type": "code",
   "execution_count": 95,
   "id": "33b934c6-2c26-44c1-8c51-47a93b5a461a",
   "metadata": {},
   "outputs": [
    {
     "name": "stdout",
     "output_type": "stream",
     "text": [
      "Maximum number of labels:  3\n"
     ]
    },
    {
     "name": "stderr",
     "output_type": "stream",
     "text": [
      "100%|█████████████████████████████████████████████████████| 23850/23850 [00:00<00:00, 1302290.60it/s]\n"
     ]
    }
   ],
   "source": []
  },
  {
   "cell_type": "code",
   "execution_count": 99,
   "id": "e30f924a-d050-4c10-afca-226cc44f9f5f",
   "metadata": {},
   "outputs": [
    {
     "data": {
      "text/html": [
       "<div>\n",
       "<style scoped>\n",
       "    .dataframe tbody tr th:only-of-type {\n",
       "        vertical-align: middle;\n",
       "    }\n",
       "\n",
       "    .dataframe tbody tr th {\n",
       "        vertical-align: top;\n",
       "    }\n",
       "\n",
       "    .dataframe thead th {\n",
       "        text-align: right;\n",
       "    }\n",
       "</style>\n",
       "<table border=\"1\" class=\"dataframe\">\n",
       "  <thead>\n",
       "    <tr style=\"text-align: right;\">\n",
       "      <th></th>\n",
       "      <th>image_id</th>\n",
       "      <th>label_1</th>\n",
       "      <th>label_2</th>\n",
       "      <th>label_3</th>\n",
       "    </tr>\n",
       "  </thead>\n",
       "  <tbody>\n",
       "    <tr>\n",
       "      <th>0</th>\n",
       "      <td>20000101_135119_000.jpg</td>\n",
       "      <td>ScreenA</td>\n",
       "      <td>None</td>\n",
       "      <td>None</td>\n",
       "    </tr>\n",
       "    <tr>\n",
       "      <th>1</th>\n",
       "      <td>20000101_150240_000.jpg</td>\n",
       "      <td>ScreenA</td>\n",
       "      <td>None</td>\n",
       "      <td>None</td>\n",
       "    </tr>\n",
       "    <tr>\n",
       "      <th>2</th>\n",
       "      <td>20000101_155600_000.jpg</td>\n",
       "      <td>ScreenA</td>\n",
       "      <td>None</td>\n",
       "      <td>None</td>\n",
       "    </tr>\n",
       "    <tr>\n",
       "      <th>3</th>\n",
       "      <td>20000101_165738_000.jpg</td>\n",
       "      <td>ScreenA</td>\n",
       "      <td>None</td>\n",
       "      <td>None</td>\n",
       "    </tr>\n",
       "    <tr>\n",
       "      <th>4</th>\n",
       "      <td>20000102_121847_000.jpg</td>\n",
       "      <td>ScreenA</td>\n",
       "      <td>None</td>\n",
       "      <td>None</td>\n",
       "    </tr>\n",
       "  </tbody>\n",
       "</table>\n",
       "</div>"
      ],
      "text/plain": [
       "                  image_id  label_1 label_2 label_3\n",
       "0  20000101_135119_000.jpg  ScreenA    None    None\n",
       "1  20000101_150240_000.jpg  ScreenA    None    None\n",
       "2  20000101_155600_000.jpg  ScreenA    None    None\n",
       "3  20000101_165738_000.jpg  ScreenA    None    None\n",
       "4  20000102_121847_000.jpg  ScreenA    None    None"
      ]
     },
     "execution_count": 99,
     "metadata": {},
     "output_type": "execute_result"
    }
   ],
   "source": []
  },
  {
   "cell_type": "code",
   "execution_count": 100,
   "id": "e15667c6-44ef-49bc-931b-f52a28e9de10",
   "metadata": {},
   "outputs": [],
   "source": []
  },
  {
   "cell_type": "code",
   "execution_count": 121,
   "id": "3855568d-7657-4445-a673-2d492811d9b8",
   "metadata": {},
   "outputs": [
    {
     "name": "stdout",
     "output_type": "stream",
     "text": [
      "20000101_135119_000\n"
     ]
    }
   ],
   "source": [
    "name = '20000101_135119_000.jpg'\n",
    "print(os.path.splitext(name)[-2])"
   ]
  },
  {
   "cell_type": "code",
   "execution_count": null,
   "id": "82efcb95-2038-46b3-aa1f-5f15f55b3f84",
   "metadata": {},
   "outputs": [],
   "source": []
  },
  {
   "cell_type": "code",
   "execution_count": null,
   "id": "1854c3e0-2f5b-4726-9ef0-e3097fe8fc02",
   "metadata": {},
   "outputs": [],
   "source": []
  }
 ],
 "metadata": {
  "kernelspec": {
   "display_name": "Python 3 (ipykernel)",
   "language": "python",
   "name": "python3"
  },
  "language_info": {
   "codemirror_mode": {
    "name": "ipython",
    "version": 3
   },
   "file_extension": ".py",
   "mimetype": "text/x-python",
   "name": "python",
   "nbconvert_exporter": "python",
   "pygments_lexer": "ipython3",
   "version": "3.9.7"
  }
 },
 "nbformat": 4,
 "nbformat_minor": 5
}
