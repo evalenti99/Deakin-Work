{
 "cells": [
  {
   "cell_type": "markdown",
   "id": "46f701d5-c415-4607-a60d-202213f7b458",
   "metadata": {},
   "source": [
    "### This script gets Eugeni's labels and saves them to a CSV file."
   ]
  },
  {
   "cell_type": "code",
   "execution_count": 56,
   "id": "6184c4e1-4ded-4d58-b09d-c19da9150493",
   "metadata": {},
   "outputs": [],
   "source": [
    "import os\n",
    "import os.path as osp\n",
    "from multiprocessing import Pool\n",
    "import sys\n",
    "current_dir = os.getcwd()\n",
    "if not current_dir in sys.path:\n",
    "    sys.path.append(current_dir)\n",
    "from typing import List, Tuple\n",
    "from functools import partial\n",
    "from tqdm import tqdm\n",
    "import configparser\n",
    "import shutil\n",
    "from os.path import exists\n",
    "from collections import Counter\n",
    "import pandas as pd\n",
    "import glob\n",
    "# import matplotlib.pyplot as plt"
   ]
  },
  {
   "cell_type": "code",
   "execution_count": 57,
   "id": "8fb005ab-fd8f-4910-a784-4eab729b0ed3",
   "metadata": {},
   "outputs": [],
   "source": [
    "import sys \n",
    "sys.path.append('/usr/lib/python3/dist-packages')"
   ]
  },
  {
   "cell_type": "code",
   "execution_count": 62,
   "id": "f5d9ed45-71bb-4c96-81b6-a1ed3fabb169",
   "metadata": {},
   "outputs": [],
   "source": [
    "path = '/home/eugeni/Downloads/Eugeni_Labels'"
   ]
  },
  {
   "cell_type": "code",
   "execution_count": 58,
   "id": "d12ecee3-f88a-4478-aaa1-0178f364576b",
   "metadata": {},
   "outputs": [
    {
     "data": {
      "text/plain": [
       "'/home/eugeni/Downloads/Deakin_Consumptions'"
      ]
     },
     "execution_count": 58,
     "metadata": {},
     "output_type": "execute_result"
    }
   ],
   "source": [
    "current_dir"
   ]
  },
  {
   "cell_type": "code",
   "execution_count": 59,
   "id": "9ab73ce4-a1d9-44f3-a065-b4de6d923883",
   "metadata": {},
   "outputs": [],
   "source": [
    "def df_to_list(df):\n",
    "    return df.iloc[:,0].to_list()"
   ]
  },
  {
   "cell_type": "code",
   "execution_count": 60,
   "id": "19733353-e11f-4f16-a85e-65480ddf0a16",
   "metadata": {},
   "outputs": [],
   "source": [
    "def find(name, path):\n",
    "    for root, dirs, files in os.walk(path):\n",
    "        if name in files:\n",
    "            return os.path.join(root, name)"
   ]
  },
  {
   "cell_type": "code",
   "execution_count": 61,
   "id": "c351c315-4183-420b-ae1b-c713af37fd74",
   "metadata": {},
   "outputs": [],
   "source": [
    "def copy_a_file(source, destination):\n",
    "    file_name = source.split('/')[-1]\n",
    "    destination = os.path.join(destination, file_name) \n",
    "    if not exists(destination):\n",
    "        shutil.copyfile(source, destination)"
   ]
  },
  {
   "cell_type": "code",
   "execution_count": 63,
   "id": "1771bfb0-a024-4152-8aa0-dda3a14cb3c5",
   "metadata": {},
   "outputs": [],
   "source": [
    "df1 = pd.Series(glob.glob(path + '/MED/*/*.jpg'))\n",
    "df1.to_csv('MED.csv')"
   ]
  },
  {
   "cell_type": "code",
   "execution_count": 64,
   "id": "f7462286-2366-41e4-8e97-f234dad24ddf",
   "metadata": {},
   "outputs": [],
   "source": [
    "df2 = pd.Series(glob.glob(path + '/FOOD/*/*.jpg'))\n",
    "df2.to_csv('FOOD.csv')"
   ]
  },
  {
   "cell_type": "code",
   "execution_count": 65,
   "id": "101d2dd0-77c1-4c54-bc80-669054c1f418",
   "metadata": {},
   "outputs": [],
   "source": [
    "df3 = pd.Series(glob.glob(path + '/BEVERAGES/*/*.jpg'))\n",
    "df3.to_csv('BEVERAGES.csv')"
   ]
  },
  {
   "cell_type": "markdown",
   "id": "bdc8ef95-950d-4c9f-9811-15aeff26b0f5",
   "metadata": {},
   "source": [
    "### Results saved to 3 .CSV files. These files now contain Eugeni's manual annotations."
   ]
  },
  {
   "cell_type": "code",
   "execution_count": 66,
   "id": "82f357ba-ab3e-4b20-b6a4-774846770196",
   "metadata": {},
   "outputs": [
    {
     "name": "stdout",
     "output_type": "stream",
     "text": [
      "MED: 59\n"
     ]
    }
   ],
   "source": [
    "print('MED:', df1.count())"
   ]
  },
  {
   "cell_type": "code",
   "execution_count": 67,
   "id": "4bd55e41-8d47-4416-aa76-b760affbdf2a",
   "metadata": {},
   "outputs": [
    {
     "name": "stdout",
     "output_type": "stream",
     "text": [
      "FOOD: 633\n"
     ]
    }
   ],
   "source": [
    "print('FOOD:', df2.count())"
   ]
  },
  {
   "cell_type": "code",
   "execution_count": 68,
   "id": "64616546-a768-4c19-9a38-24ccb2f1d670",
   "metadata": {},
   "outputs": [
    {
     "name": "stdout",
     "output_type": "stream",
     "text": [
      "BEVERAGES: 295\n"
     ]
    }
   ],
   "source": [
    "print('BEVERAGES:', df3.count())"
   ]
  },
  {
   "cell_type": "code",
   "execution_count": 69,
   "id": "3f1dd6ac-fee0-48e4-9b92-ef3d953a3a22",
   "metadata": {},
   "outputs": [],
   "source": [
    "# file = 'Eugeni 3 Categories Analysis-SIB.xlsx'\n",
    "# df_med = pd.read_excel(file, sheet_name='MED_filtered')\n",
    "# df_bev = pd.read_excel(file, sheet_name='BEV_filtered')\n",
    "# df_food = pd.read_excel(file, sheet_name='FOOD_filtered')\n",
    "# df_med.count()"
   ]
  },
  {
   "cell_type": "code",
   "execution_count": 70,
   "id": "98e5431c-9e2a-4f2e-b2a0-11e167b86981",
   "metadata": {},
   "outputs": [],
   "source": [
    "# med = df_to_list(df_med)\n",
    "# bev = df_to_list(df_bev)\n",
    "# food = df_to_list(df_food)"
   ]
  },
  {
   "cell_type": "code",
   "execution_count": 71,
   "id": "16a81185-042c-4941-9559-903c4a32a365",
   "metadata": {},
   "outputs": [],
   "source": [
    "# df = pd.Series(glob.glob(path + '/FOOD/*/*.jpg'))\n",
    "# df.to_csv('FOOD.csv')"
   ]
  }
 ],
 "metadata": {
  "kernelspec": {
   "display_name": "Python 3 (ipykernel)",
   "language": "python",
   "name": "python3"
  },
  "language_info": {
   "codemirror_mode": {
    "name": "ipython",
    "version": 3
   },
   "file_extension": ".py",
   "mimetype": "text/x-python",
   "name": "python",
   "nbconvert_exporter": "python",
   "pygments_lexer": "ipython3",
   "version": "3.8.10"
  }
 },
 "nbformat": 4,
 "nbformat_minor": 5
}
