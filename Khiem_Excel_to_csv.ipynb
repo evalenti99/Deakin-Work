{
 "cells": [
  {
   "cell_type": "markdown",
   "id": "70f7916e-a641-4253-a317-fb027399f166",
   "metadata": {},
   "source": [
    "### This script gets Khiem's Excel labels and saves them to a CSV file."
   ]
  },
  {
   "cell_type": "code",
   "execution_count": 1,
   "id": "6f362146-dbd1-48f8-8e4b-1962526e96d9",
   "metadata": {},
   "outputs": [],
   "source": [
    "import os\n",
    "import os.path as osp\n",
    "from multiprocessing import Pool\n",
    "import sys\n",
    "current_dir = os.getcwd()\n",
    "if not current_dir in sys.path:\n",
    "    sys.path.append(current_dir)\n",
    "from typing import List, Tuple\n",
    "from functools import partial\n",
    "from tqdm import tqdm\n",
    "import configparser\n",
    "import shutil\n",
    "from os.path import exists\n",
    "from collections import Counter\n",
    "import pandas as pd\n",
    "# import matplotlib.pyplot as plt"
   ]
  },
  {
   "cell_type": "code",
   "execution_count": 2,
   "id": "39f22b08-0be6-47c4-b54b-21f673db400f",
   "metadata": {},
   "outputs": [],
   "source": [
    "import sys \n",
    "sys.path.append('/usr/lib/python3/dist-packages')"
   ]
  },
  {
   "cell_type": "code",
   "execution_count": 3,
   "id": "81088be0-8be1-4cf6-ad3b-4f8beb2c82e5",
   "metadata": {},
   "outputs": [],
   "source": [
    "def df_to_list(df):\n",
    "    return df.iloc[:,0].to_list()"
   ]
  },
  {
   "cell_type": "code",
   "execution_count": 4,
   "id": "c40f9b6f-f348-4c0d-b54a-944048c6b2e2",
   "metadata": {},
   "outputs": [],
   "source": [
    "def find(name, path):\n",
    "    for root, dirs, files in os.walk(path):\n",
    "        if name in files:\n",
    "            return os.path.join(root, name)"
   ]
  },
  {
   "cell_type": "code",
   "execution_count": 5,
   "id": "92baf5b5-78c2-4d46-b5cc-93f5a86fa2c8",
   "metadata": {},
   "outputs": [],
   "source": [
    "def copy_a_file(source, destination, subject):\n",
    "    file_name = source.split('/')[-1]\n",
    "    destination = os.path.join(destination, subject, file_name) \n",
    "    if not exists(destination):\n",
    "        shutil.copyfile(source, destination)"
   ]
  },
  {
   "cell_type": "code",
   "execution_count": 6,
   "id": "31aacbe3-3d68-4f3e-b82d-7a235cbdfd96",
   "metadata": {},
   "outputs": [],
   "source": [
    "path = '/mnt/DEAKIN/DeakinTest/DeakinTestEugeni/Deakin_Consumptions'\n",
    "file = 'Eugeni 3 Categories Analysis-SIB.xlsx'"
   ]
  },
  {
   "cell_type": "code",
   "execution_count": 7,
   "id": "32b8a9a6-7372-4446-84ba-0bbf16a7a5a9",
   "metadata": {},
   "outputs": [
    {
     "data": {
      "text/html": [
       "<div>\n",
       "<style scoped>\n",
       "    .dataframe tbody tr th:only-of-type {\n",
       "        vertical-align: middle;\n",
       "    }\n",
       "\n",
       "    .dataframe tbody tr th {\n",
       "        vertical-align: top;\n",
       "    }\n",
       "\n",
       "    .dataframe thead th {\n",
       "        text-align: right;\n",
       "    }\n",
       "</style>\n",
       "<table border=\"1\" class=\"dataframe\">\n",
       "  <thead>\n",
       "    <tr style=\"text-align: right;\">\n",
       "      <th></th>\n",
       "      <th>MED images</th>\n",
       "    </tr>\n",
       "  </thead>\n",
       "  <tbody>\n",
       "    <tr>\n",
       "      <th>0</th>\n",
       "      <td>20160529_192935_000.jpg</td>\n",
       "    </tr>\n",
       "    <tr>\n",
       "      <th>1</th>\n",
       "      <td>20160529_193005_000.jpg</td>\n",
       "    </tr>\n",
       "    <tr>\n",
       "      <th>2</th>\n",
       "      <td>20160704_022940_000.jpg</td>\n",
       "    </tr>\n",
       "    <tr>\n",
       "      <th>3</th>\n",
       "      <td>20160706_071143_000.jpg</td>\n",
       "    </tr>\n",
       "    <tr>\n",
       "      <th>4</th>\n",
       "      <td>20160706_072503_000.jpg</td>\n",
       "    </tr>\n",
       "  </tbody>\n",
       "</table>\n",
       "</div>"
      ],
      "text/plain": [
       "                MED images\n",
       "0  20160529_192935_000.jpg\n",
       "1  20160529_193005_000.jpg\n",
       "2  20160704_022940_000.jpg\n",
       "3  20160706_071143_000.jpg\n",
       "4  20160706_072503_000.jpg"
      ]
     },
     "execution_count": 7,
     "metadata": {},
     "output_type": "execute_result"
    }
   ],
   "source": [
    "df_med = pd.read_excel(file, sheet_name='MED_filtered')\n",
    "df_bev = pd.read_excel(file, sheet_name='BEV_filtered')\n",
    "df_food = pd.read_excel(file, sheet_name='FOOD_filtered')\n",
    "df_med.head()"
   ]
  },
  {
   "cell_type": "code",
   "execution_count": 8,
   "id": "b3d3527c-c658-4182-b56f-c57aba1e6c40",
   "metadata": {},
   "outputs": [],
   "source": [
    "# We put it to a list.\n",
    "med = df_to_list(df_med)\n",
    "bev = df_to_list(df_bev)\n",
    "food = df_to_list(df_food)"
   ]
  },
  {
   "cell_type": "code",
   "execution_count": 9,
   "id": "61454174-4a1a-4d61-b72a-4cf206833547",
   "metadata": {},
   "outputs": [
    {
     "name": "stderr",
     "output_type": "stream",
     "text": [
      "100%|██████████████████████████████████████████████████████████████| 181/181 [18:36<00:00,  6.17s/it]\n",
      "100%|████████████████████████████████████████████████████████████| 483/483 [2:15:35<00:00, 16.84s/it]\n",
      "100%|██████████████████████████████████████████████████████████| 1000/1000 [1:23:21<00:00,  5.00s/it]\n"
     ]
    }
   ],
   "source": [
    "# Finding the correct path inside the folder.\n",
    "med_paths = []\n",
    "bev_paths = []\n",
    "food_paths = []\n",
    "for name in tqdm(med):\n",
    "    med_paths.append(find(name, path))\n",
    "for name in tqdm(bev):\n",
    "    bev_paths.append(find(name, path))\n",
    "for name in tqdm(food):\n",
    "    food_paths.append(find(name, path))"
   ]
  },
  {
   "cell_type": "code",
   "execution_count": 62,
   "id": "8bbf4e62-df14-4cb1-8419-d4351e81a082",
   "metadata": {},
   "outputs": [],
   "source": [
    "df1 = pd.Series(med_paths)\n",
    "df1.to_csv('MED_Khiem.csv', index=False)"
   ]
  },
  {
   "cell_type": "code",
   "execution_count": 63,
   "id": "577f4a39-7521-481f-b059-63962dd39688",
   "metadata": {},
   "outputs": [],
   "source": [
    "# df1 = pd.Series(med_paths)\n",
    "# df1.to_csv('MED_Eugeni_test.csv', index=False)"
   ]
  },
  {
   "cell_type": "code",
   "execution_count": 64,
   "id": "1fbb72d4-2c82-4397-9f6b-4973f3d0f282",
   "metadata": {},
   "outputs": [],
   "source": [
    "df2 = pd.Series(bev_paths)\n",
    "df2.to_csv('BEV_Khiem.csv', index=False)"
   ]
  },
  {
   "cell_type": "code",
   "execution_count": 65,
   "id": "19292705-d42f-4dcf-af00-572fd5cc0c72",
   "metadata": {},
   "outputs": [],
   "source": [
    "df3 = pd.Series(food_paths)\n",
    "df3.to_csv('FOOD_Khiem.csv', index=False)"
   ]
  },
  {
   "cell_type": "markdown",
   "id": "94335fd3-554e-4949-a2ad-f822f7eb6fb5",
   "metadata": {},
   "source": [
    "### Results saved to 3 .CSV files. These files now contain Khiem's Excel annotations."
   ]
  },
  {
   "cell_type": "code",
   "execution_count": 57,
   "id": "3a324cab-bcb4-49d1-a248-516b82fe7760",
   "metadata": {},
   "outputs": [
    {
     "name": "stdout",
     "output_type": "stream",
     "text": [
      "MED: 181\n"
     ]
    }
   ],
   "source": [
    "print('MED:', df1.count())"
   ]
  },
  {
   "cell_type": "code",
   "execution_count": 58,
   "id": "f613a5aa-cb8d-4b37-a591-bbd12a359f45",
   "metadata": {},
   "outputs": [
    {
     "name": "stdout",
     "output_type": "stream",
     "text": [
      "0 med pictures could not be found.\n"
     ]
    }
   ],
   "source": [
    "print((len(med) - df1.count()),  'med pictures could not be found.')"
   ]
  },
  {
   "cell_type": "code",
   "execution_count": 59,
   "id": "46fbee8a-e104-4a74-af3f-9978c9d6d289",
   "metadata": {},
   "outputs": [
    {
     "name": "stdout",
     "output_type": "stream",
     "text": [
      "BEVERAGES: 482\n"
     ]
    }
   ],
   "source": [
    "print('BEVERAGES:', df2.count())"
   ]
  },
  {
   "cell_type": "code",
   "execution_count": 60,
   "id": "bd1fc1b2-e0d4-446f-a639-dc49d6cf6122",
   "metadata": {},
   "outputs": [
    {
     "name": "stdout",
     "output_type": "stream",
     "text": [
      "1 beverages pictures could not be found.\n"
     ]
    }
   ],
   "source": [
    "print((len(bev) - df2.count()),  'beverages pictures could not be found.')"
   ]
  },
  {
   "cell_type": "code",
   "execution_count": 61,
   "id": "ceb00ea5-33c1-4e95-ac3a-e2765a63cb6a",
   "metadata": {},
   "outputs": [
    {
     "name": "stdout",
     "output_type": "stream",
     "text": [
      "FOOD: 996\n"
     ]
    }
   ],
   "source": [
    "print('FOOD:', df3.count())"
   ]
  },
  {
   "cell_type": "code",
   "execution_count": 56,
   "id": "8c8c8433-a277-4601-a299-7ae6dd7898e1",
   "metadata": {},
   "outputs": [
    {
     "name": "stdout",
     "output_type": "stream",
     "text": [
      "4 food pictures could not be found.\n"
     ]
    }
   ],
   "source": [
    "print((len(food) - df3.count()),  'food pictures could not be found.')"
   ]
  },
  {
   "cell_type": "markdown",
   "id": "b20cb37a-8a91-4fad-a051-0feaca34c54b",
   "metadata": {},
   "source": [
    "### Comparison between the 2 CSVs and look for duplicates."
   ]
  },
  {
   "cell_type": "code",
   "execution_count": 47,
   "id": "66a894cf-0bf0-479b-ae48-5129424d6a94",
   "metadata": {},
   "outputs": [],
   "source": [
    "def splitter(list_name):\n",
    "    cols = ['label', 'subject_id', 'image_id']\n",
    "    df = pd.DataFrame(columns=cols)\n",
    "    for image in list_name:\n",
    "        label = image.split('/')[-3]\n",
    "        subject_id = image.split('/')[-2]\n",
    "        image_id = image.split('/')[-1]\n",
    "        df.append([label, subject_id, image_id])\n",
    "    return df"
   ]
  },
  {
   "cell_type": "code",
   "execution_count": 24,
   "id": "2081ab94-98e1-475d-b0c3-f8fda6426464",
   "metadata": {},
   "outputs": [],
   "source": [
    "df_med_eugeni = pd.read_csv('MED_Eugeni.csv')\n",
    "df_bev_eugeni = pd.read_csv('BEVERAGES_Eugeni.csv')\n",
    "df_food_eugeni = pd.read_csv('FOOD_Eugeni.csv')"
   ]
  },
  {
   "cell_type": "code",
   "execution_count": 35,
   "id": "c62e974c-5bb7-4aad-8658-b594231a80ff",
   "metadata": {},
   "outputs": [
    {
     "data": {
      "text/html": [
       "<div>\n",
       "<style scoped>\n",
       "    .dataframe tbody tr th:only-of-type {\n",
       "        vertical-align: middle;\n",
       "    }\n",
       "\n",
       "    .dataframe tbody tr th {\n",
       "        vertical-align: top;\n",
       "    }\n",
       "\n",
       "    .dataframe thead th {\n",
       "        text-align: right;\n",
       "    }\n",
       "</style>\n",
       "<table border=\"1\" class=\"dataframe\">\n",
       "  <thead>\n",
       "    <tr style=\"text-align: right;\">\n",
       "      <th></th>\n",
       "      <th>0</th>\n",
       "    </tr>\n",
       "  </thead>\n",
       "  <tbody>\n",
       "    <tr>\n",
       "      <th>0</th>\n",
       "      <td>/home/eugeni/Downloads/Eugeni_Labels/MED/83-12...</td>\n",
       "    </tr>\n",
       "    <tr>\n",
       "      <th>1</th>\n",
       "      <td>/home/eugeni/Downloads/Eugeni_Labels/MED/83-13...</td>\n",
       "    </tr>\n",
       "    <tr>\n",
       "      <th>2</th>\n",
       "      <td>/home/eugeni/Downloads/Eugeni_Labels/MED/83-13...</td>\n",
       "    </tr>\n",
       "    <tr>\n",
       "      <th>3</th>\n",
       "      <td>/home/eugeni/Downloads/Eugeni_Labels/MED/83-13...</td>\n",
       "    </tr>\n",
       "    <tr>\n",
       "      <th>4</th>\n",
       "      <td>/home/eugeni/Downloads/Eugeni_Labels/MED/83-13...</td>\n",
       "    </tr>\n",
       "  </tbody>\n",
       "</table>\n",
       "</div>"
      ],
      "text/plain": [
       "                                                   0\n",
       "0  /home/eugeni/Downloads/Eugeni_Labels/MED/83-12...\n",
       "1  /home/eugeni/Downloads/Eugeni_Labels/MED/83-13...\n",
       "2  /home/eugeni/Downloads/Eugeni_Labels/MED/83-13...\n",
       "3  /home/eugeni/Downloads/Eugeni_Labels/MED/83-13...\n",
       "4  /home/eugeni/Downloads/Eugeni_Labels/MED/83-13..."
      ]
     },
     "execution_count": 35,
     "metadata": {},
     "output_type": "execute_result"
    }
   ],
   "source": [
    "df_med_eugeni.head()"
   ]
  },
  {
   "cell_type": "code",
   "execution_count": 48,
   "id": "6621b573-cdef-4ff7-a3c7-6af16d6d7936",
   "metadata": {},
   "outputs": [
    {
     "data": {
      "text/html": [
       "<div>\n",
       "<style scoped>\n",
       "    .dataframe tbody tr th:only-of-type {\n",
       "        vertical-align: middle;\n",
       "    }\n",
       "\n",
       "    .dataframe tbody tr th {\n",
       "        vertical-align: top;\n",
       "    }\n",
       "\n",
       "    .dataframe thead th {\n",
       "        text-align: right;\n",
       "    }\n",
       "</style>\n",
       "<table border=\"1\" class=\"dataframe\">\n",
       "  <thead>\n",
       "    <tr style=\"text-align: right;\">\n",
       "      <th></th>\n",
       "      <th>label</th>\n",
       "      <th>subject_id</th>\n",
       "      <th>image_id</th>\n",
       "    </tr>\n",
       "  </thead>\n",
       "  <tbody>\n",
       "  </tbody>\n",
       "</table>\n",
       "</div>"
      ],
      "text/plain": [
       "Empty DataFrame\n",
       "Columns: [label, subject_id, image_id]\n",
       "Index: []"
      ]
     },
     "execution_count": 48,
     "metadata": {},
     "output_type": "execute_result"
    }
   ],
   "source": [
    "list_food_eugeni = splitter(df_to_list(df_food_eugeni))\n",
    "list_food_eugeni.head()"
   ]
  },
  {
   "cell_type": "code",
   "execution_count": 37,
   "id": "b9b6ccd4-565c-465f-b4d9-dd697b14ac4e",
   "metadata": {},
   "outputs": [
    {
     "data": {
      "text/plain": [
       "'/mnt/DEAKIN/DeakinTest/DeakinTestEugeni/Deakin_Consumptions/MED/83-101/20160529_192935_000.jpg'"
      ]
     },
     "execution_count": 37,
     "metadata": {},
     "output_type": "execute_result"
    }
   ],
   "source": [
    "df1[0]"
   ]
  },
  {
   "cell_type": "code",
   "execution_count": 41,
   "id": "bec543d4-21dc-4384-8993-92a0fe72f37c",
   "metadata": {},
   "outputs": [
    {
     "data": {
      "text/plain": [
       "'FOOD/83-126/20170223_014349_000.jpg'"
      ]
     },
     "execution_count": 41,
     "metadata": {},
     "output_type": "execute_result"
    }
   ],
   "source": [
    "list_food_eugeni[0]"
   ]
  }
 ],
 "metadata": {
  "kernelspec": {
   "display_name": "Python 3 (ipykernel)",
   "language": "python",
   "name": "python3"
  },
  "language_info": {
   "codemirror_mode": {
    "name": "ipython",
    "version": 3
   },
   "file_extension": ".py",
   "mimetype": "text/x-python",
   "name": "python",
   "nbconvert_exporter": "python",
   "pygments_lexer": "ipython3",
   "version": "3.8.8"
  }
 },
 "nbformat": 4,
 "nbformat_minor": 5
}
