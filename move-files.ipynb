{
 "cells": [
  {
   "cell_type": "code",
   "execution_count": 1,
   "id": "82819043-b4f5-4221-ac60-dc81d5db4b7f",
   "metadata": {},
   "outputs": [],
   "source": [
    "import os\n",
    "import os.path as osp\n",
    "from multiprocessing import Pool\n",
    "import sys\n",
    "current_dir = os.getcwd()\n",
    "if not current_dir in sys.path:\n",
    "    sys.path.append(current_dir)\n",
    "from typing import List, Tuple\n",
    "from functools import partial\n",
    "from tqdm import tqdm\n",
    "import configparser\n",
    "import shutil\n",
    "from os.path import exists\n",
    "from collections import Counter\n",
    "# import matplotlib.pyplot as plt"
   ]
  },
  {
   "cell_type": "code",
   "execution_count": 2,
   "id": "5667e09e-e210-423f-a73e-4fccad6663fa",
   "metadata": {},
   "outputs": [],
   "source": [
    "def create_folder(folder_path):\n",
    "    if not osp.exists(folder_path):\n",
    "        os.makedirs(folder_path)"
   ]
  },
  {
   "cell_type": "code",
   "execution_count": 4,
   "id": "cbb5243e-76bf-4fa7-886a-297c7701caef",
   "metadata": {},
   "outputs": [],
   "source": [
    "data_dir = '/home/eugeni/workspace/Eugeni_Labels/'"
   ]
  },
  {
   "cell_type": "code",
   "execution_count": 8,
   "id": "6a49e170-35e7-48af-b2ec-ae3faaf3952c",
   "metadata": {},
   "outputs": [],
   "source": [
    "labels = ['BEVERAGES', 'FOOD', 'MED']"
   ]
  },
  {
   "cell_type": "code",
   "execution_count": 9,
   "id": "e75c308d-02b8-4140-8418-5f22ef05efd0",
   "metadata": {},
   "outputs": [],
   "source": [
    "subjects = ['83-101','83-102','83-103','83-104','83-105','83-106','83-107','83-108','83-109','83-110','83-111','83-112','83-113','83-114','83-115','83-116','83-117','83-118','83-119','83-120','83-121','83-122','83-123','83-124','83-125','83-126','83-127','83-128','83-129','83-130']"
   ]
  },
  {
   "cell_type": "code",
   "execution_count": 10,
   "id": "eb427af1-fd27-4622-84f1-878bf65ee9e1",
   "metadata": {},
   "outputs": [],
   "source": [
    "def copy_a_file(source, destination, subject):\n",
    "    \n",
    "    file_name = source.split('/')[-1]\n",
    "    destination = os.path.join(destination, subject, file_name) \n",
    "    \n",
    "    if not exists(destination):\n",
    "        shutil.copyfile(source, destination)"
   ]
  },
  {
   "cell_type": "code",
   "execution_count": null,
   "id": "098f12c0-825c-4bd5-a850-a45b2b027515",
   "metadata": {},
   "outputs": [],
   "source": [
    "for label in labels:\n",
    "    for subject in subjects:\n",
    "        path = osp.join(data_dir, label, subject)\n",
    "        destination = osp.join(data_dir, label)\n",
    "        for file in os.listdir(path):\n",
    "            "
   ]
  }
 ],
 "metadata": {
  "kernelspec": {
   "display_name": "Python 3 (ipykernel)",
   "language": "python",
   "name": "python3"
  },
  "language_info": {
   "codemirror_mode": {
    "name": "ipython",
    "version": 3
   },
   "file_extension": ".py",
   "mimetype": "text/x-python",
   "name": "python",
   "nbconvert_exporter": "python",
   "pygments_lexer": "ipython3",
   "version": "3.9.7"
  }
 },
 "nbformat": 4,
 "nbformat_minor": 5
}
