{
 "cells": [
  {
   "cell_type": "code",
   "execution_count": 1,
   "id": "e3104efb-f465-413f-bc36-3d15c60647a4",
   "metadata": {},
   "outputs": [
    {
     "name": "stderr",
     "output_type": "stream",
     "text": [
      "2021-12-07 16:54:54.047136: W tensorflow/stream_executor/platform/default/dso_loader.cc:64] Could not load dynamic library 'libcudart.so.11.0'; dlerror: libcudart.so.11.0: cannot open shared object file: No such file or directory\n",
      "2021-12-07 16:54:54.047162: I tensorflow/stream_executor/cuda/cudart_stub.cc:29] Ignore above cudart dlerror if you do not have a GPU set up on your machine.\n"
     ]
    }
   ],
   "source": [
    "import numpy as np\n",
    "%matplotlib inline\n",
    "import matplotlib.image as mpimg\n",
    "import matplotlib.pyplot as plt\n",
    "import tensorflow as tf\n",
    "tf.compat.v1.set_random_seed(2019)\n",
    "\n",
    "import sklearn.metrics as metrics\n",
    "from sklearn.metrics import ConfusionMatrixDisplay\n",
    "from sklearn.metrics import confusion_matrix"
   ]
  },
  {
   "cell_type": "markdown",
   "id": "a05110c7-3b48-4ae5-b2aa-2f6649a2ee4a",
   "metadata": {},
   "source": [
    "# Baseline model"
   ]
  },
  {
   "cell_type": "code",
   "execution_count": 2,
   "id": "a0b54413-95f9-490a-8ca6-25da846c034b",
   "metadata": {},
   "outputs": [
    {
     "name": "stderr",
     "output_type": "stream",
     "text": [
      "2021-12-07 16:54:55.726660: E tensorflow/stream_executor/cuda/cuda_driver.cc:271] failed call to cuInit: CUDA_ERROR_NO_DEVICE: no CUDA-capable device is detected\n",
      "2021-12-07 16:54:55.726694: I tensorflow/stream_executor/cuda/cuda_diagnostics.cc:156] kernel driver does not appear to be running on this host (eugeni-XPS-13-9360): /proc/driver/nvidia/version does not exist\n",
      "2021-12-07 16:54:55.726920: I tensorflow/core/platform/cpu_feature_guard.cc:151] This TensorFlow binary is optimized with oneAPI Deep Neural Network Library (oneDNN) to use the following CPU instructions in performance-critical operations:  AVX2 FMA\n",
      "To enable them in other operations, rebuild TensorFlow with the appropriate compiler flags.\n"
     ]
    }
   ],
   "source": [
    "model = tf.keras.models.Sequential([\n",
    "    tf.keras.layers.Conv2D(16,(3,3),activation = \"relu\" , input_shape = (180,180,3)) ,\n",
    "    tf.keras.layers.MaxPooling2D(2,2),\n",
    "    tf.keras.layers.Conv2D(32,(3,3),activation = \"relu\") ,  \n",
    "    tf.keras.layers.MaxPooling2D(2,2),\n",
    "    tf.keras.layers.Conv2D(64,(3,3),activation = \"relu\") ,  \n",
    "    tf.keras.layers.MaxPooling2D(2,2),\n",
    "    tf.keras.layers.Conv2D(128,(3,3),activation = \"relu\"),  \n",
    "    tf.keras.layers.MaxPooling2D(2,2),\n",
    "    tf.keras.layers.Flatten(), \n",
    "    tf.keras.layers.Dense(550,activation=\"relu\"),      #Adding the Hidden layer\n",
    "    tf.keras.layers.Dropout(0.1,seed = 2019),\n",
    "    tf.keras.layers.Dense(400,activation =\"relu\"),\n",
    "    tf.keras.layers.Dropout(0.3,seed = 2019),\n",
    "    tf.keras.layers.Dense(300,activation=\"relu\"),\n",
    "    tf.keras.layers.Dropout(0.4,seed = 2019),\n",
    "    tf.keras.layers.Dense(200,activation =\"relu\"),\n",
    "    tf.keras.layers.Dropout(0.2,seed = 2019),\n",
    "    tf.keras.layers.Dense(3,activation = \"softmax\")   #Adding the Output Layer\n",
    "])"
   ]
  },
  {
   "cell_type": "code",
   "execution_count": 3,
   "id": "49438707-ac19-4f44-ba5c-a97c58c5a05b",
   "metadata": {},
   "outputs": [
    {
     "name": "stdout",
     "output_type": "stream",
     "text": [
      "Model: \"sequential\"\n",
      "_________________________________________________________________\n",
      " Layer (type)                Output Shape              Param #   \n",
      "=================================================================\n",
      " conv2d (Conv2D)             (None, 178, 178, 16)      448       \n",
      "                                                                 \n",
      " max_pooling2d (MaxPooling2D  (None, 89, 89, 16)       0         \n",
      " )                                                               \n",
      "                                                                 \n",
      " conv2d_1 (Conv2D)           (None, 87, 87, 32)        4640      \n",
      "                                                                 \n",
      " max_pooling2d_1 (MaxPooling  (None, 43, 43, 32)       0         \n",
      " 2D)                                                             \n",
      "                                                                 \n",
      " conv2d_2 (Conv2D)           (None, 41, 41, 64)        18496     \n",
      "                                                                 \n",
      " max_pooling2d_2 (MaxPooling  (None, 20, 20, 64)       0         \n",
      " 2D)                                                             \n",
      "                                                                 \n",
      " conv2d_3 (Conv2D)           (None, 18, 18, 128)       73856     \n",
      "                                                                 \n",
      " max_pooling2d_3 (MaxPooling  (None, 9, 9, 128)        0         \n",
      " 2D)                                                             \n",
      "                                                                 \n",
      " flatten (Flatten)           (None, 10368)             0         \n",
      "                                                                 \n",
      " dense (Dense)               (None, 550)               5702950   \n",
      "                                                                 \n",
      " dropout (Dropout)           (None, 550)               0         \n",
      "                                                                 \n",
      " dense_1 (Dense)             (None, 400)               220400    \n",
      "                                                                 \n",
      " dropout_1 (Dropout)         (None, 400)               0         \n",
      "                                                                 \n",
      " dense_2 (Dense)             (None, 300)               120300    \n",
      "                                                                 \n",
      " dropout_2 (Dropout)         (None, 300)               0         \n",
      "                                                                 \n",
      " dense_3 (Dense)             (None, 200)               60200     \n",
      "                                                                 \n",
      " dropout_3 (Dropout)         (None, 200)               0         \n",
      "                                                                 \n",
      " dense_4 (Dense)             (None, 3)                 603       \n",
      "                                                                 \n",
      "=================================================================\n",
      "Total params: 6,201,893\n",
      "Trainable params: 6,201,893\n",
      "Non-trainable params: 0\n",
      "_________________________________________________________________\n"
     ]
    }
   ],
   "source": [
    "model.summary()"
   ]
  },
  {
   "cell_type": "markdown",
   "id": "d5fdd770-e142-45a2-8f63-8b08a70a044b",
   "metadata": {},
   "source": [
    "## Loading data to keras.preprocessing"
   ]
  },
  {
   "cell_type": "code",
   "execution_count": 4,
   "id": "c7f1553d-3c03-4523-9cc3-2bb048b4978f",
   "metadata": {},
   "outputs": [],
   "source": [
    "from tensorflow.keras.optimizers import RMSprop,SGD,Adam\n",
    "adam=Adam(learning_rate=1e-03)\n",
    "model.compile(optimizer='adam', loss='categorical_crossentropy', metrics = ['acc'])"
   ]
  },
  {
   "cell_type": "code",
   "execution_count": 18,
   "id": "98543b34-4410-4d52-a227-419e037d9646",
   "metadata": {},
   "outputs": [
    {
     "name": "stdout",
     "output_type": "stream",
     "text": [
      "Found 588 images belonging to 3 classes.\n",
      "Found 45 images belonging to 3 classes.\n"
     ]
    }
   ],
   "source": [
    "bs=32       #Setting batch size\n",
    "train_dir = \"/home/eugeni/Downloads/Eugeni_Labels/data-recovery (copy)/train\"   #Setting training directory\n",
    "validation_dir = \"/home/eugeni/Downloads/Eugeni_Labels/data-recovery (copy)/test\"   #Setting testing directory\n",
    "from tensorflow.keras.preprocessing.image import ImageDataGenerator \n",
    "# All images will be rescaled by 1./255.\n",
    "train_datagen = ImageDataGenerator( rescale = 1.0/255. )\n",
    "test_datagen  = ImageDataGenerator( rescale = 1.0/255. )\n",
    "# Flow training images in batches of 20 using train_datagen generator\n",
    "#Flow_from_directory function lets the classifier directly identify the labels from the name of the directories the image lies in\n",
    "train_generator=train_datagen.flow_from_directory(train_dir,batch_size=bs,class_mode='categorical',target_size=(180,180))\n",
    "# Flow validation images in batches of 20 using test_datagen generator\n",
    "validation_generator =  test_datagen.flow_from_directory(validation_dir,\n",
    "                                                         batch_size=bs,\n",
    "                                                         class_mode  = 'categorical',\n",
    "                                                         target_size=(180,180))"
   ]
  },
  {
   "cell_type": "code",
   "execution_count": 19,
   "id": "c1dcf4a2-4c92-47b8-89d0-23a457b91e9f",
   "metadata": {},
   "outputs": [],
   "source": [
    "# Check if there are any Error Images.\n",
    "import PIL\n",
    "from pathlib import Path\n",
    "from PIL import UnidentifiedImageError\n",
    "\n",
    "path = Path(\"/home/eugeni/Downloads/Eugeni_Labels/data-recovery (copy)\").rglob(\"*/*/*.jpg\")\n",
    "for img_p in path:\n",
    "    try:\n",
    "        img = PIL.Image.open(img_p)\n",
    "    except PIL.UnidentifiedImageError:\n",
    "            print(img_p)"
   ]
  },
  {
   "cell_type": "markdown",
   "id": "17941bc0-631c-4757-b285-a371d6f0d535",
   "metadata": {},
   "source": [
    "## Training the baseline model"
   ]
  },
  {
   "cell_type": "code",
   "execution_count": 35,
   "id": "39a46246-6b99-491e-9eca-0ddca787c98a",
   "metadata": {},
   "outputs": [
    {
     "name": "stdout",
     "output_type": "stream",
     "text": [
      "Epoch 1/10\n",
      "4/4 - 3s - loss: 0.6051 - acc: 0.7778 - val_loss: 1.4755 - val_acc: 0.4062 - 3s/epoch - 734ms/step\n",
      "Epoch 2/10\n",
      "4/4 - 3s - loss: 0.5814 - acc: 0.7734 - val_loss: 1.5628 - val_acc: 0.3750 - 3s/epoch - 686ms/step\n",
      "Epoch 3/10\n",
      "4/4 - 3s - loss: 0.5358 - acc: 0.7969 - val_loss: 1.5820 - val_acc: 0.4375 - 3s/epoch - 659ms/step\n",
      "Epoch 4/10\n",
      "4/4 - 3s - loss: 0.4081 - acc: 0.8828 - val_loss: 1.5411 - val_acc: 0.3438 - 3s/epoch - 665ms/step\n",
      "Epoch 5/10\n",
      "4/4 - 3s - loss: 0.4631 - acc: 0.8594 - val_loss: 2.0214 - val_acc: 0.3125 - 3s/epoch - 741ms/step\n",
      "Epoch 6/10\n",
      "4/4 - 3s - loss: 0.4527 - acc: 0.8148 - val_loss: 1.8699 - val_acc: 0.4062 - 3s/epoch - 729ms/step\n",
      "Epoch 7/10\n",
      "4/4 - 3s - loss: 0.4403 - acc: 0.8359 - val_loss: 1.6116 - val_acc: 0.4688 - 3s/epoch - 848ms/step\n",
      "Epoch 8/10\n",
      "4/4 - 3s - loss: 0.3286 - acc: 0.9141 - val_loss: 1.9701 - val_acc: 0.4375 - 3s/epoch - 844ms/step\n",
      "Epoch 9/10\n",
      "4/4 - 3s - loss: 0.2857 - acc: 0.9062 - val_loss: 2.4960 - val_acc: 0.3750 - 3s/epoch - 847ms/step\n",
      "Epoch 10/10\n",
      "4/4 - 3s - loss: 0.2401 - acc: 0.9375 - val_loss: 3.0027 - val_acc: 0.4062 - 3s/epoch - 799ms/step\n"
     ]
    }
   ],
   "source": [
    "history = model.fit(train_generator,\n",
    "                    validation_data=validation_generator,\n",
    "                    steps_per_epoch=150 // bs,\n",
    "                    epochs=10,\n",
    "                    validation_steps=50 // bs,\n",
    "                    verbose=2)"
   ]
  },
  {
   "cell_type": "code",
   "execution_count": 36,
   "id": "cf2d826e-6aef-4ca8-8ed9-3bb7ac0545e4",
   "metadata": {},
   "outputs": [],
   "source": [
    "true_classes = validation_generator.classes\n",
    "class_labels = list(validation_generator.class_indices.keys())   "
   ]
  },
  {
   "cell_type": "code",
   "execution_count": 37,
   "id": "ecbd0135-9606-4dd0-b22d-5260b724f26b",
   "metadata": {},
   "outputs": [],
   "source": [
    "test_steps_per_epoch = np.math.ceil(validation_generator.samples / validation_generator.batch_size)\n",
    "predictions = model.predict(validation_generator, steps=test_steps_per_epoch)"
   ]
  },
  {
   "cell_type": "code",
   "execution_count": 38,
   "id": "35152ac2-9c0f-4c5d-a820-1a8d3d1ab7f2",
   "metadata": {},
   "outputs": [],
   "source": [
    "predicted_classes = np.argmax(predictions, axis=1)"
   ]
  },
  {
   "cell_type": "markdown",
   "id": "ac1fd9d1-5a5e-4419-a678-41b7b2c2309a",
   "metadata": {},
   "source": [
    "## Results of the baseline model"
   ]
  },
  {
   "cell_type": "code",
   "execution_count": 39,
   "id": "44b3913e-7f30-4739-8d71-e764233a5ede",
   "metadata": {},
   "outputs": [
    {
     "name": "stdout",
     "output_type": "stream",
     "text": [
      "              precision    recall  f1-score   support\n",
      "\n",
      "  BEVERAGESS       0.50      0.53      0.52        15\n",
      "       FOODD       0.46      0.40      0.43        15\n",
      "         MED       0.31      0.33      0.32        15\n",
      "\n",
      "    accuracy                           0.42        45\n",
      "   macro avg       0.42      0.42      0.42        45\n",
      "weighted avg       0.42      0.42      0.42        45\n",
      "\n"
     ]
    }
   ],
   "source": [
    "report = metrics.classification_report(true_classes, predicted_classes, target_names=class_labels)\n",
    "print(report)  "
   ]
  },
  {
   "cell_type": "code",
   "execution_count": 40,
   "id": "4f997a2f-efd8-47e5-98aa-b6cee59b322f",
   "metadata": {},
   "outputs": [
    {
     "data": {
      "image/png": "[encoded data removed]",
      "text/plain": [
       "<Figure size 432x288 with 2 Axes>"
      ]
     },
     "metadata": {
      "needs_background": "light"
     },
     "output_type": "display_data"
    }
   ],
   "source": [
    "import matplotlib.pyplot as plt\n",
    "\n",
    "cm = confusion_matrix(true_classes, predicted_classes)\n",
    "\n",
    "disp = ConfusionMatrixDisplay(confusion_matrix=cm, display_labels=class_labels)\n",
    "\n",
    "disp.plot(cmap=plt.cm.Blues)\n",
    "plt.show()"
   ]
  },
  {
   "cell_type": "code",
   "execution_count": 28,
   "id": "c317e0ee-8a0c-4b6a-aca7-7fdf51f66041",
   "metadata": {},
   "outputs": [
    {
     "data": {
      "image/png": "[encoded data removed]",
      "text/plain": [
       "<Figure size 432x288 with 1 Axes>"
      ]
     },
     "metadata": {
      "needs_background": "light"
     },
     "output_type": "display_data"
    },
    {
     "data": {
      "image/png": "[encoded data removed]",
      "text/plain": [
       "<Figure size 432x288 with 1 Axes>"
      ]
     },
     "metadata": {
      "needs_background": "light"
     },
     "output_type": "display_data"
    }
   ],
   "source": [
    "# summarize history for accuracy\n",
    "plt.plot(history.history['acc'])\n",
    "plt.plot(history.history['val_acc'])\n",
    "plt.title('Baseline model accuracy')\n",
    "plt.ylabel('accuracy')\n",
    "plt.xlabel('epoch')\n",
    "plt.legend(['train', 'test'], loc='upper left')\n",
    "plt.ylim(bottom=0, top=1)\n",
    "plt.show()\n",
    "# summarize history for loss\n",
    "plt.plot(history.history['loss'])\n",
    "plt.plot(history.history['val_loss'])\n",
    "plt.title('Baseline model loss')\n",
    "plt.ylabel('loss')\n",
    "plt.xlabel('epoch')\n",
    "plt.legend(['train', 'test'], loc='upper left')\n",
    "plt.ylim(bottom=0, top=2)\n",
    "plt.show()"
   ]
  },
  {
   "cell_type": "markdown",
   "id": "bc20fbf6-2622-4cea-ab3b-d75f2cc51b70",
   "metadata": {},
   "source": [
    "# ResNet50"
   ]
  },
  {
   "cell_type": "code",
   "execution_count": null,
   "id": "72ea23f6-01bd-417d-8c10-a23eb33b3d8a",
   "metadata": {},
   "outputs": [],
   "source": [
    "from tensorflow.keras.applications.resnet50 import ResNet50\n",
    "from tensorflow.keras.preprocessing import image\n",
    "from tensorflow.keras.applications.resnet50 import preprocess_input, decode_predictions\n",
    "import numpy as np\n",
    "\n",
    "model_resnet50 = ResNet50(weights='imagenet')\n",
    "\n",
    "# model_resnet50.summary()"
   ]
  },
  {
   "cell_type": "code",
   "execution_count": null,
   "id": "046c8e39-dd4f-4885-ad36-33c71ed8d2de",
   "metadata": {},
   "outputs": [],
   "source": [
    "preds = model_resnet50.predict(validation_generator)\n",
    "print('Predicted:', decode_predictions(preds, top=10)[0])"
   ]
  },
  {
   "cell_type": "code",
   "execution_count": null,
   "id": "2d61d76b-5cdf-4ce0-b901-b74d5f78142f",
   "metadata": {},
   "outputs": [],
   "source": [
    "# preds_train_set = model.predict(train_generator)\n",
    "# print('Predicted:', decode_predictions(preds_train_set, top=10)[0])"
   ]
  },
  {
   "cell_type": "code",
   "execution_count": null,
   "id": "d5a7bd99-cf01-46e9-a4c3-d87f5dcfe8cb",
   "metadata": {},
   "outputs": [],
   "source": [
    "predictions = model_resnet50.predict(validation_generator, steps=test_steps_per_epoch)"
   ]
  },
  {
   "cell_type": "code",
   "execution_count": null,
   "id": "e31df9e2-4d74-4495-84ff-36c1df6465be",
   "metadata": {},
   "outputs": [],
   "source": [
    "predicted_classes = np.argmax(predictions, axis=1)"
   ]
  },
  {
   "cell_type": "code",
   "execution_count": null,
   "id": "5c6b8fd9-7eba-41dd-8316-04047fdcc3c4",
   "metadata": {},
   "outputs": [],
   "source": [
    "report = metrics.classification_report(true_classes, predicted_classes, target_names=class_labels)\n",
    "print(report) "
   ]
  },
  {
   "cell_type": "code",
   "execution_count": null,
   "id": "e37f6945-77a2-464a-baf7-695330244554",
   "metadata": {},
   "outputs": [],
   "source": [
    "len(predicted_classes)"
   ]
  },
  {
   "cell_type": "code",
   "execution_count": null,
   "id": "af20322a-5d75-4d93-a21c-46b9cbde791c",
   "metadata": {},
   "outputs": [],
   "source": [
    "class_labels = list(validation_generator.class_indices.keys())\n",
    "class_labels"
   ]
  },
  {
   "cell_type": "code",
   "execution_count": null,
   "id": "aca6249b-cba3-4617-9f60-47bfa01c05f9",
   "metadata": {},
   "outputs": [],
   "source": [
    "len(true_classes)"
   ]
  },
  {
   "cell_type": "markdown",
   "id": "e9b34da6-d67d-46e6-968f-b2e8f1f7ab6f",
   "metadata": {},
   "source": [
    "# Simpler model"
   ]
  },
  {
   "cell_type": "code",
   "execution_count": null,
   "id": "b2ee8e82-9700-4bb1-a5c3-94db0381c249",
   "metadata": {},
   "outputs": [],
   "source": [
    "from keras.models import Sequential\n",
    "from keras.layers import Dense, Conv2D, Flatten\n",
    "#create model\n",
    "model = Sequential()\n",
    "#add model layers\n",
    "model.add(Conv2D(64, kernel_size=3, activation='relu', input_shape=(180,180,3)))\n",
    "model.add(Conv2D(32, kernel_size=3, activation='relu'))\n",
    "model.add(Flatten())\n",
    "model.add(Dense(3, activation='softmax'))"
   ]
  },
  {
   "cell_type": "code",
   "execution_count": null,
   "id": "ea0b6475-b3b1-441e-bc7f-9194359938db",
   "metadata": {},
   "outputs": [],
   "source": [
    "#compile model using accuracy to measure model performance\n",
    "model.compile(optimizer='adam', loss='categorical_crossentropy', metrics=['accuracy'])"
   ]
  },
  {
   "cell_type": "code",
   "execution_count": null,
   "id": "e1174cd8-ad4d-4b3f-8c29-f22d0affa585",
   "metadata": {},
   "outputs": [],
   "source": [
    "history = model.fit(train_generator,\n",
    "                    validation_data=validation_generator,\n",
    "                    steps_per_epoch=150 // bs,\n",
    "                    epochs=20,\n",
    "                    validation_steps=50 // bs,\n",
    "                    verbose=2)"
   ]
  },
  {
   "cell_type": "code",
   "execution_count": null,
   "id": "646627eb-e28f-4b13-8ee6-1fb0e50460b8",
   "metadata": {},
   "outputs": [],
   "source": [
    "predicted_classes = np.argmax(predictions, axis=1)"
   ]
  },
  {
   "cell_type": "code",
   "execution_count": null,
   "id": "e641c436-e528-4796-9b8a-8d40b26e041d",
   "metadata": {},
   "outputs": [],
   "source": [
    "report = metrics.classification_report(true_classes, predicted_classes, target_names=class_labels)\n",
    "print(report)  "
   ]
  },
  {
   "cell_type": "markdown",
   "id": "a83aba93-7ab2-4f9c-a8fc-93d2b67494d7",
   "metadata": {},
   "source": [
    "# Transfer learning"
   ]
  },
  {
   "cell_type": "code",
   "execution_count": null,
   "id": "443e9d59-e413-4b8d-8af2-78580112610b",
   "metadata": {},
   "outputs": [],
   "source": []
  },
  {
   "cell_type": "code",
   "execution_count": null,
   "id": "00e2b443-1f51-49b5-996c-4b0422baf34d",
   "metadata": {},
   "outputs": [],
   "source": []
  }
 ],
 "metadata": {
  "kernelspec": {
   "display_name": "Python 3 (ipykernel)",
   "language": "python",
   "name": "python3"
  },
  "language_info": {
   "codemirror_mode": {
    "name": "ipython",
    "version": 3
   },
   "file_extension": ".py",
   "mimetype": "text/x-python",
   "name": "python",
   "nbconvert_exporter": "python",
   "pygments_lexer": "ipython3",
   "version": "3.8.10"
  }
 },
 "nbformat": 4,
 "nbformat_minor": 5
}
